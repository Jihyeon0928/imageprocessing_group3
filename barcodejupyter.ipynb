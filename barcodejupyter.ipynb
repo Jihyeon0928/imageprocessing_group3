{
 "cells": [
  {
   "cell_type": "code",
   "execution_count": 4,
   "metadata": {},
   "outputs": [
    {
     "data": {
      "text/plain": [
       "True"
      ]
     },
     "execution_count": 4,
     "metadata": {},
     "output_type": "execute_result"
    }
   ],
   "source": [
    "import numpy as np \n",
    "import cv2\n",
    "import matplotlib.pyplot as plt\n",
    "\n",
    "#from google.colab.patches import cv2_imshow\n",
    "\n",
    "\n",
    "image = cv2.imread(r'c:\\Users\\HANU\\Desktop\\img2.jpg')\n",
    "#image = cv2.resize(image,None,fx=0.3, fy=0.3)\n",
    "gray = cv2.cvtColor(image, cv2.COLOR_BGR2GRAY)\n",
    "\n",
    " \n",
    "gradX = cv2.Sobel(gray, ddepth = cv2.CV_32F, dx = 1, dy = 0, ksize = -1)\n",
    "gradY = cv2.Sobel(gray, ddepth = cv2.CV_32F, dx = 0, dy = 1, ksize = -1)\n",
    "\n",
    " \n",
    "gradient = cv2.subtract(gradX, gradY)\n",
    "gradient = cv2.convertScaleAbs(gradient)\n",
    "\n",
    "\n",
    "blurred = cv2.GaussianBlur(gradient, (9,9),0)\n",
    "(_, thresh) = cv2.threshold(blurred, 150, 255, cv2.THRESH_BINARY)\n",
    "\n",
    "\n",
    "\n",
    "closed = cv2.erode(thresh, None, iterations = 4)\n",
    "closed = cv2.dilate(thresh, None, iterations = 4)\n",
    "\n",
    "\n",
    "cnts, hierarchy = cv2.findContours(closed.copy(), cv2.RETR_EXTERNAL, cv2.CHAIN_APPROX_SIMPLE)\n",
    "c = sorted(cnts, key = cv2.contourArea, reverse = True)[0]\n",
    " \n",
    "# compute the rotated bounding box of the largest contour\n",
    "rect = cv2.minAreaRect(c)\n",
    "box = np.int0(cv2.boxPoints(rect))\n",
    " \n",
    "\n",
    "cv2.drawContours(image, [box], -1, (0, 255, 0), 2)\n",
    "cv2.imshow(\"image\",image)\n",
    "cv2.waitKey(0)\n",
    "cv2.destroyAllWindows()\n",
    "\n",
    "#cv2_imshow(gradient)\n",
    "#cv2_imshow(blurred)\n",
    "#cv2_imshow(thresh)\n",
    "#cv2_imshow(closed)\n",
    "\n",
    "img_crop = image[box[2][1]:box[0][1], box[1][0]:box[3][0]]\n",
    "cv2.imshow(\"img_crop\",img_crop)\n",
    "cv2.waitKey(0)\n",
    "cv2.destroyAllWindows()\n",
    "\n",
    "cv2.imwrite(\"img_crop.jpg\",img_crop)"
   ]
  },
  {
   "cell_type": "code",
   "execution_count": null,
   "metadata": {},
   "outputs": [],
   "source": []
  }
 ],
 "metadata": {
  "kernelspec": {
   "display_name": "Python 3",
   "language": "python",
   "name": "python3"
  },
  "language_info": {
   "codemirror_mode": {
    "name": "ipython",
    "version": 3
   },
   "file_extension": ".py",
   "mimetype": "text/x-python",
   "name": "python",
   "nbconvert_exporter": "python",
   "pygments_lexer": "ipython3",
   "version": "3.7.5"
  }
 },
 "nbformat": 4,
 "nbformat_minor": 4
}
