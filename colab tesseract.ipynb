{
  "nbformat": 4,
  "nbformat_minor": 0,
  "metadata": {
    "colab": {
      "name": "Untitled11.ipynb",
      "provenance": []
    },
    "kernelspec": {
      "name": "python3",
      "display_name": "Python 3"
    }
  },
  "cells": [
    {
      "cell_type": "code",
      "metadata": {
        "id": "qcKKuUaJb8lW",
        "colab_type": "code",
        "colab": {}
      },
      "source": [
        "!sudo apt install tesseract-ocr\n",
        "!pip install pytesseract"
      ],
      "execution_count": 0,
      "outputs": []
    },
    {
      "cell_type": "code",
      "metadata": {
        "id": "UqinVEH-b_Ui",
        "colab_type": "code",
        "colab": {}
      },
      "source": [
        "import pytesseract\n",
        "import shutil\n",
        "import os\n",
        "import random\n",
        "try:\n",
        " from PIL import Image\n",
        "except ImportError:\n",
        " import Image\n",
        " import cv2"
      ],
      "execution_count": 0,
      "outputs": []
    },
    {
      "cell_type": "code",
      "metadata": {
        "id": "Z7GxadsZcAbp",
        "colab_type": "code",
        "colab": {}
      },
      "source": [
        "image_path_in_colab='Isbn_add5.png'\n",
        "extractedInformation = pytesseract.image_to_string(Image.open(image_path_in_colab))\n",
        "print(extractedInformation)"
      ],
      "execution_count": 0,
      "outputs": []
    },
    {
      "cell_type": "code",
      "metadata": {
        "id": "jfjZCBRWcDOx",
        "colab_type": "code",
        "colab": {}
      },
      "source": [
        "import re\n",
        "text = extractedInformation\n",
        "line = re.sub('[-,\\n]','', text)\n",
        "print(line)"
      ],
      "execution_count": 0,
      "outputs": []
    },
    {
      "cell_type": "code",
      "metadata": {
        "id": "iO3_dEVLcFbJ",
        "colab_type": "code",
        "colab": {}
      },
      "source": [
        "\n",
        "n=line.find('N')\n",
        "isbn_no=line[n+2:n+15]\n",
        "\n",
        "#for line in line:\n",
        "#    item = line.split(\" \")\n",
        "    #isbn_no = item[item.index(\"ISBN\")+1]\n",
        "\n",
        "print(isbn_no)"
      ],
      "execution_count": 0,
      "outputs": []
    }
  ]
}