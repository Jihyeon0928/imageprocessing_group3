{
  "nbformat": 4,
  "nbformat_minor": 0,
  "metadata": {
    "colab": {
      "name": "isbnSearch.ipynb",
      "provenance": [],
      "collapsed_sections": []
    },
    "kernelspec": {
      "name": "python3",
      "display_name": "Python 3"
    }
  },
  "cells": [
    {
      "cell_type": "markdown",
      "metadata": {
        "id": "9-thmGZu2AjZ",
        "colab_type": "text"
      },
      "source": [
        "### **CODE**"
      ]
    },
    {
      "cell_type": "code",
      "metadata": {
        "id": "MBNAN02HyQua",
        "colab_type": "code",
        "colab": {}
      },
      "source": [
        "import os\n",
        "import sys\n",
        "import urllib.request\n",
        "import datetime\n",
        "import time\n",
        "import json\n",
        "from Naver.config import *\n",
        "\n",
        "client_id = \"client-ID\"\n",
        "client_secret = \"client-SECRET\""
      ],
      "execution_count": 0,
      "outputs": []
    },
    {
      "cell_type": "code",
      "metadata": {
        "id": "UCLU13N1zgur",
        "colab_type": "code",
        "colab": {}
      },
      "source": [
        "# [CODE 1]\n",
        "\n",
        "def get_request_url(url):\n",
        "    print(\">get_request_url()\")\n",
        "    req = urllib.request.Request(url)\n",
        "    req.add_header(\"X-Naver-Client-Id\", client_id)\n",
        "    req.add_header(\"X-Naver-Client-Secret\", client_secret)\n",
        "    try:\n",
        "        response = urllib.request.urlopen(req)\n",
        "        if response.getcode() == 200:\n",
        "            print(\"[%s] Url Request Success\" % datetime.datetime.now())\n",
        "            return response.read().decode('utf-8')\n",
        "    except Exception as e:\n",
        "        print(e)\n",
        "        print(\"[%s] Error for URL : %s\" % (datetime.datetime.now(), url))\n",
        "        return None"
      ],
      "execution_count": 0,
      "outputs": []
    },
    {
      "cell_type": "code",
      "metadata": {
        "id": "NOHJaEnFzhXE",
        "colab_type": "code",
        "colab": {}
      },
      "source": [
        "# [CODE 2]\n",
        "\n",
        "def getNaverSearchResult(sNode, search_text, page_start, display):\n",
        "    print(\">getNaverSearchResult()\")\n",
        "    base = \"https://openapi.naver.com/v1/search\"\n",
        "    node = \"/%s.json\" % sNode\n",
        "    parameters = \"?query=%s&start=%s&display=%s\" % (urllib.parse.quote(search_text), page_start, display)\n",
        "    url = base + node + parameters\n",
        "\n",
        "    retData = get_request_url(url)\n",
        "\n",
        "    if (retData == None):\n",
        "        return None\n",
        "    else:\n",
        "        return json.loads(retData)"
      ],
      "execution_count": 0,
      "outputs": []
    },
    {
      "cell_type": "code",
      "metadata": {
        "id": "XGxUHJpZzje0",
        "colab_type": "code",
        "colab": {}
      },
      "source": [
        "# [CODE 3]\n",
        "\n",
        "def getPostData(post, jsonResult):\n",
        "    print(\">getPostData()\")\n",
        "\n",
        "    title = post['title']\n",
        "    image = post['image']\n",
        "    author = post['autheor']\n",
        "    price = post['price']\n",
        "    discount = post['discount']\n",
        "    publisher = post['publisher']\n",
        "    description = post['description']\n",
        "    pubdate = post['pubdate']\n",
        "\n",
        "    # Tue, 14 Feb 2017 18:46:00 +0900\n",
        "\n",
        "    jsonResult.append({'title': title, 'image': image, 'author': author, 'publisher': publisher,\n",
        "                       'price': price, 'discount': discount, 'description': description, 'pubdate': pubdate)\n",
        "    return"
      ],
      "execution_count": 0,
      "outputs": []
    },
    {
      "cell_type": "code",
      "metadata": {
        "id": "5dH50zEnypSB",
        "colab_type": "code",
        "colab": {}
      },
      "source": [
        "def isbnSearch(isbn):\n",
        "    print(\">main()\")\n",
        "    jsonResult = []\n",
        "\n",
        "    # 'news', 'blog', 'cafearticle'\n",
        "\n",
        "    sNode = 'book'\n",
        "\n",
        "    search_text = isbn\n",
        "    display_count = 100\n",
        "\n",
        "    jsonSearch = getNaverSearchResult(sNode, search_text, 1, display_count)\n",
        "\n",
        "    while ((jsonSearch != None) and (jsonSearch['display'] != 0)):\n",
        "        for post in jsonSearch['items']:\n",
        "            getPostData(post, jsonResult)\n",
        "\n",
        "        nStart = jsonSearch['start'] + jsonSearch['display']\n",
        "        jsonSearch = getNaverSearchResult(sNode, search_text, nStart, display_count)\n",
        "\n",
        "    with open('%s_naver_%s.json' % (search_text, sNode), 'w', encoding='utf8') as outfile:\n",
        "        retJson = json.dumps(jsonResult,\n",
        "                             indent=4, sort_keys=True,\n",
        "                             ensure_ascii=False)\n",
        "        outfile.write(retJson)\n",
        "\n",
        "    print('%s_naver_%s.json SAVED' % (search_text, sNode))"
      ],
      "execution_count": 0,
      "outputs": []
    },
    {
      "cell_type": "markdown",
      "metadata": {
        "id": "-sd12XKx2FV8",
        "colab_type": "text"
      },
      "source": [
        "### **content**"
      ]
    },
    {
      "cell_type": "code",
      "metadata": {
        "id": "DmLEQ4F11J9l",
        "colab_type": "code",
        "colab": {}
      },
      "source": [
        "isbn = \"\"\n",
        "isbnSearch(ispn)"
      ],
      "execution_count": 0,
      "outputs": []
    }
  ]
}