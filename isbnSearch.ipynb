{
 "cells": [
  {
   "cell_type": "markdown",
   "metadata": {
    "colab_type": "text",
    "id": "9-thmGZu2AjZ"
   },
   "source": [
    "### **CODE**"
   ]
  },
  {
   "cell_type": "code",
   "execution_count": 1,
   "metadata": {
    "colab": {
     "base_uri": "https://localhost:8080/",
     "height": 352
    },
    "colab_type": "code",
    "id": "MBNAN02HyQua",
    "outputId": "0955f1af-3303-4f00-cf4b-fa5528623cf5"
   },
   "outputs": [],
   "source": [
    "import os\n",
    "import sys\n",
    "import urllib.request\n",
    "import datetime\n",
    "import time\n",
    "import json\n",
    "\n",
    "#from Naver.config import *"
   ]
  },
  {
   "cell_type": "code",
   "execution_count": 2,
   "metadata": {
    "colab": {},
    "colab_type": "code",
    "id": "UCLU13N1zgur"
   },
   "outputs": [],
   "source": [
    "# [CODE 1]\n",
    "\n",
    "def get_request_url(url):\n",
    "    print(\">get_request_url()\")\n",
    "    req = urllib.request.Request(url)\n",
    "    req.add_header(\"X-Naver-Client-Id\", client_id)\n",
    "    req.add_header(\"X-Naver-Client-Secret\", client_secret)\n",
    "    try:\n",
    "        response = urllib.request.urlopen(req)\n",
    "        if response.getcode() == 200:\n",
    "            print(\"[%s] Url Request Success\" % datetime.datetime.now())\n",
    "            return response.read().decode('utf-8')\n",
    "    except Exception as e:\n",
    "        print(e)\n",
    "        print(\"[%s] Error for URL : %s\" % (datetime.datetime.now(), url))\n",
    "        return None"
   ]
  },
  {
   "cell_type": "code",
   "execution_count": 21,
   "metadata": {
    "colab": {},
    "colab_type": "code",
    "id": "NOHJaEnFzhXE"
   },
   "outputs": [],
   "source": [
    "# [CODE 2]\n",
    "\n",
    "def getNaverSearchResult(sNode, search_text, page_start, display):\n",
    "    print(\">getNaverSearchResult()\")\n",
    "    base = \"https://openapi.naver.com/v1/search\"\n",
    "    node = \"/%s.json\" % sNode\n",
    "    parameters = \"?query=%s&start=%s&display=%s\" % (urllib.parse.quote(search_text), page_start, display)\n",
    "    url = base + node + parameters\n",
    "\n",
    "    retData = get_request_url(url)\n",
    "\n",
    "    if (retData == None):\n",
    "        return None\n",
    "    else:\n",
    "        return json.loads(retData)"
   ]
  },
  {
   "cell_type": "code",
   "execution_count": 12,
   "metadata": {
    "colab": {
     "base_uri": "https://localhost:8080/",
     "height": 136
    },
    "colab_type": "code",
    "id": "XGxUHJpZzje0",
    "outputId": "a7a33724-6ca6-47f4-cd47-03ee92d1f2a4"
   },
   "outputs": [],
   "source": [
    "# [CODE 3]\n",
    "\n",
    "def getPostData(post, jsonResult):\n",
    "    print(\">getPostData()\")\n",
    "\n",
    "    title = post['title']\n",
    "    image = post['image']\n",
    "    author = post['author']\n",
    "    price = post['price']\n",
    "    discount = post['discount']\n",
    "    publisher = post['publisher']\n",
    "    description = post['description']\n",
    "    pubdate = post['pubdate']\n",
    "\n",
    "    # Tue, 14 Feb 2017 18:46:00 +0900\n",
    "\n",
    "    jsonResult.append({'title': title, 'image': image, 'author': author, 'publisher': publisher,\n",
    "                       'price': price, 'discount': discount, 'description': description, 'pubdate': pubdate})\n",
    "    return"
   ]
  },
  {
   "cell_type": "code",
   "execution_count": 6,
   "metadata": {
    "colab": {},
    "colab_type": "code",
    "id": "5dH50zEnypSB"
   },
   "outputs": [],
   "source": [
    "def isbnSearch(isbn):\n",
    "    print(\">main()\")\n",
    "    jsonResult = []\n",
    "\n",
    "    # 'news', 'blog', 'cafearticle'\n",
    "\n",
    "    sNode = 'book'\n",
    "\n",
    "    search_text = isbn\n",
    "    display_count = 100\n",
    "\n",
    "    jsonSearch = getNaverSearchResult(sNode, search_text, 1, display_count)\n",
    "\n",
    "    while ((jsonSearch != None) and (jsonSearch['display'] != 0)):\n",
    "        for post in jsonSearch['items']:\n",
    "            getPostData(post, jsonResult)\n",
    "\n",
    "        nStart = jsonSearch['start'] + jsonSearch['display']\n",
    "        jsonSearch = getNaverSearchResult(sNode, search_text, nStart, display_count)\n",
    "\n",
    "    with open('%s_naver_%s.json' % (search_text, sNode), 'w', encoding='utf8') as outfile:\n",
    "        retJson = json.dumps(jsonResult,\n",
    "                             indent=4, sort_keys=True,\n",
    "                             ensure_ascii=False)\n",
    "        outfile.write(retJson)\n",
    "\n",
    "    print('%s_naver_%s.json SAVED' % (search_text, sNode))"
   ]
  },
  {
   "cell_type": "markdown",
   "metadata": {
    "colab_type": "text",
    "id": "-sd12XKx2FV8"
   },
   "source": [
    "### **content**"
   ]
  },
  {
   "cell_type": "code",
   "execution_count": 22,
   "metadata": {
    "colab": {},
    "colab_type": "code",
    "id": "DmLEQ4F11J9l"
   },
   "outputs": [
    {
     "name": "stdout",
     "output_type": "stream",
     "text": [
      ">main()\n",
      ">getNaverSearchResult()\n",
      ">get_request_url()\n",
      "[2019-11-15 13:32:43.657418] Url Request Success\n",
      ">getPostData()\n",
      ">getNaverSearchResult()\n",
      ">get_request_url()\n",
      "[2019-11-15 13:32:43.725483] Url Request Success\n",
      "9788965110903_naver_book.json SAVED\n"
     ]
    }
   ],
   "source": [
    "client_id = \"8D2K86C4CHALYlPkI6Jx\"\n",
    "client_secret = \"DaMxMtHnrD\"\n",
    "isbn = \"9788965110903\"\n",
    "isbnSearch(isbn)"
   ]
  },
  {
   "cell_type": "code",
   "execution_count": null,
   "metadata": {},
   "outputs": [],
   "source": []
  }
 ],
 "metadata": {
  "colab": {
   "collapsed_sections": [],
   "name": "isbnSearch.ipynb",
   "provenance": []
  },
  "kernelspec": {
   "display_name": "Python 3",
   "language": "python",
   "name": "python3"
  },
  "language_info": {
   "codemirror_mode": {
    "name": "ipython",
    "version": 3
   },
   "file_extension": ".py",
   "mimetype": "text/x-python",
   "name": "python",
   "nbconvert_exporter": "python",
   "pygments_lexer": "ipython3",
   "version": "3.7.3"
  }
 },
 "nbformat": 4,
 "nbformat_minor": 2
}
