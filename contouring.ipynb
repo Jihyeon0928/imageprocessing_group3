import cv2
import numpy as np

image = cv2.imread("C:/Image/bar.jpg", cv2.IMREAD_ANYCOLOR)
img = cv2.resize(image,(700,700))
image_g = cv2.cvtColor(img, cv2.COLOR_BGR2GRAY)
#이미지 그레이스케일

blur = cv2.GaussianBlur(image_g,(3,3),0)
ret,thresh1 = cv2.threshold(blur,127,255,cv2.THRESH_BINARY)
edged = cv2.Canny(blur, 10, 250)
cv2.imshow('edged', edged)
cv2.waitKey(0)
cv2.destroyAllWindows()

kernel = cv2.getStructuringElement(cv2.MORPH_RECT, (7,7))
closed = cv2.morphologyEx(edged, cv2.MORPH_CLOSE, kernel)
cv2.imshow('closed', closed)
cv2.waitKey(0)
cv2.destroyAllWindows()

contours, _ = cv2.findContours(closed,cv2.RETR_EXTERNAL,cv2.CHAIN_APPROX_SIMPLE)
total = 0

contours_image = cv2.drawContours(img, contours, -1, (0,255,0), 3)
cv2.imshow('contours_image', contours_image)
cv2.waitKey(0)
cv2.destroyAllWindows()
