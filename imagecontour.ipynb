import cv2
import numpy as np

image = cv2.imread("C:/Image/barcode.jpg", cv2.IMREAD_ANYCOLOR)
img = cv2.resize(image,(700,700))
image_g = cv2.cvtColor(img, cv2.COLOR_BGR2GRAY)
#이미지 그레이스케일

blur = cv2.GaussianBlur(image_g,(3,3),0)
ret2,thresh2 = cv2.threshold(blur,0,255,cv2.THRESH_BINARY+cv2.THRESH_OTSU)

resize_img = cv2.resize(thresh2,(700,700))   #이미지 크기조절
cvt = cv2.bitwise_not(resize_img)  # 이미지 반전

kernel = np.ones((9,9), np.uint8)
result = cv2.morphologyEx(cvt, cv2.MORPH_CLOSE, kernel)

contours, hierachy = cv2.findContours(result,cv2.RETR_TREE,cv2.CHAIN_APPROX_SIMPLE)

for cnt in contours:
    
    epsilon = 0.07*cv2.arcLength(cnt, True)
    approx = cv2.approxPolyDP(cnt, epsilon, True)
    

for i in range(len(contours)):
    
    cnt=contours[i]
    
    area = cv2.contourArea(cnt)
    x,y,w,h = cv2.boundingRect(cnt)
    rect_area = w*h
    aspect_ratio = float(w)/h
    
    if(aspect_ratio>=4.0)and(aspect_ratio<=5.0)and(rect_area>=1000)and(rect_area<=10000):
       cv2.rectangle(img,(x,y),(x+w,y+h),(0,255,0),2)
        

cv2.imshow('result', img)


cv2.waitKey(0)
cv2.destroyAllWindows()
